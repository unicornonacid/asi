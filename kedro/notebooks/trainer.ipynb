{
 "cells": [
  {
   "cell_type": "code",
   "execution_count": null,
   "metadata": {
    "collapsed": true
   },
   "outputs": [],
   "source": [
    "import skops.io as sio\n",
    "import argparse\n",
    "import polars as pl\n",
    "import numpy as np\n",
    "from sklearn.linear_model import LogisticRegression\n",
    "from sklearn.model_selection import train_test_split\n",
    "from sklearn.model_selection import GridSearchCV\n",
    "from sklearn import preprocessing\n",
    "import warnings\n",
    "warnings.filterwarnings('ignore')"
   ]
  },
  {
   "cell_type": "code",
   "execution_count": null,
   "outputs": [],
   "source": [
    "parser = argparse.ArgumentParser(description='trenowanie modelu')\n",
    "parser.add_argument('FROM', metavar='FROM', type=str, nargs=1,help='ścieżka do pliku z danymi')\n",
    "parser.add_argument('TO', metavar='TO', type=str, nargs=1,help='ścieżka do pliku wynikowego (modelu)')\n",
    "\n",
    "args=parser.parse_args()\n",
    "FROM=args.FROM[0]\n",
    "TO=args.TO[0]"
   ],
   "metadata": {
    "collapsed": false
   }
  },
  {
   "cell_type": "code",
   "execution_count": null,
   "outputs": [],
   "source": [
    "#Wczytanie pliku\n",
    "df=pl.read_csv(FROM)"
   ],
   "metadata": {
    "collapsed": false
   }
  },
  {
   "cell_type": "code",
   "execution_count": null,
   "outputs": [],
   "source": [
    "#wyodrębnienie zmiennej zależnej\n",
    "Y=df.drop_in_place(\"Client\")\n",
    "\n",
    "#podział na część testową i treningową\n",
    "X_train, X_test, y_train, y_test = train_test_split(df,Y, test_size=0.80, random_state=2137)"
   ],
   "metadata": {
    "collapsed": false
   }
  },
  {
   "cell_type": "code",
   "execution_count": null,
   "outputs": [],
   "source": [
    "#standaryzacja zmiennych\n",
    "scaler = preprocessing.StandardScaler()\n",
    "X_train = scaler.fit_transform(X_train)\n",
    "X_test = scaler.fit_transform(X_test)\n",
    "\n",
    "param_grid = [\n",
    "    {'penalty' : ['l1', 'l2', 'elasticnet', None],\n",
    "    'C' : np.logspace(-4, 4, 20),\n",
    "    'solver' : ['lbfgs','newton-cholesky','newton-cg','liblinear','sag','saga'],\n",
    "    'max_iter' : [100, 1000,2500, 5000]\n",
    "    }\n",
    "]\n",
    "\n",
    "logModel=LogisticRegression()\n",
    "\n",
    "\n",
    "clf = GridSearchCV(logModel, param_grid = param_grid, cv = 3, n_jobs=-1,verbose=4)"
   ],
   "metadata": {
    "collapsed": false
   }
  },
  {
   "cell_type": "code",
   "execution_count": null,
   "outputs": [],
   "source": [
    "clf.fit(X_train,y_train)\n",
    "\n",
    "print(\"Tuned Hyperparameters :\", clf.best_params_)\n",
    "print(\"Accuracy :\",clf.best_score_)\n",
    "\n",
    "sio.dump(clf,TO)"
   ],
   "metadata": {
    "collapsed": false
   }
  },
  {
   "cell_type": "code",
   "execution_count": null,
   "outputs": [],
   "source": [
    "#zamiana stringów na int\n",
    "\n",
    "#raport końcowy"
   ],
   "metadata": {
    "collapsed": false
   }
  }
 ],
 "metadata": {
  "kernelspec": {
   "display_name": "Python 3",
   "language": "python",
   "name": "python3"
  },
  "language_info": {
   "codemirror_mode": {
    "name": "ipython",
    "version": 2
   },
   "file_extension": ".py",
   "mimetype": "text/x-python",
   "name": "python",
   "nbconvert_exporter": "python",
   "pygments_lexer": "ipython2",
   "version": "2.7.6"
  }
 },
 "nbformat": 4,
 "nbformat_minor": 0
}
