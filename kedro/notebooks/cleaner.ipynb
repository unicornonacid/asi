{
 "cells": [
  {
   "cell_type": "code",
   "execution_count": null,
   "metadata": {
    "collapsed": true
   },
   "outputs": [],
   "source": [
    "#!/usr/bin/env python\n",
    "\n",
    "\n",
    "import argparse\n",
    "import polars as pl\n",
    "from os import mkdir\n",
    "from os import path\n",
    "from sys import exit\n",
    "\n",
    "parser = argparse.ArgumentParser(description='Czyszczenie pliku')\n",
    "parser.add_argument('FROM', metavar='FROM', type=str, nargs=1,help='ścieżka do pliku do oczyszcenia')\n",
    "parser.add_argument('TO', metavar='TO', type=str, nargs=1,help='ścieżka do pliku wynikowego')\n",
    "\n",
    "args=parser.parse_args()\n",
    "FROM=args.FROM[0]\n",
    "TO=args.TO[0]\n",
    "\n",
    "#Wczytanie pliku\n",
    "df=pl.read_csv(FROM)\n",
    "\n",
    "#policzenie rekordów\n",
    "raw_number=df.select(pl.count())[0,0]\n",
    "\n",
    "#zamiana stringów na int\n",
    "client_converter={\"Y\":1, \"N\":0}\n",
    "sex_converter={\"M\":1, \"F\":0}\n",
    "\n",
    "df = df.with_columns(pl.col(\"Client\").map_dict(client_converter))\n",
    "df = df.with_columns(pl.col(\"Sex\").map_dict(sex_converter))\n",
    "\n",
    "#usunięcie rekordów z null/none\n",
    "df = df.drop_nulls()\n",
    "\n",
    "#tylko osoby w wieku poniżej 100 lat i powyżej 17 mogą kupować\n",
    "df = df.filter(pl.col(\"Age\")>17)\n",
    "df = df.filter(pl.col(\"Age\")<100)\n",
    "\n",
    "#policzenie rekordów po przetworzeniu\n",
    "clean_number=df.select(pl.count())[0,0]\n",
    "\n",
    "#sprawdzenie/utworzenie katalogów/plików\n",
    "if not path.exists(path.dirname(TO)):\n",
    "    mkdir(path.dirname(TO))\n",
    "\n",
    "if path.exists(TO):\n",
    "    print(\"Docelowy plik istnieje. Nie nadpisuję\")\n",
    "    exit(1)\n",
    "\n",
    "#zapis pliku\n",
    "df.write_csv(TO)\n",
    "\n",
    "#raport końcowy\n",
    "print(f\"\"\"Przetworzono {raw_number} rekordów.\n",
    "Usunięto {raw_number-clean_number}.\n",
    "Docelowy plik ma {clean_number} rekordów\"\"\")"
   ]
  }
 ],
 "metadata": {
  "kernelspec": {
   "display_name": "Python 3",
   "language": "python",
   "name": "python3"
  },
  "language_info": {
   "codemirror_mode": {
    "name": "ipython",
    "version": 2
   },
   "file_extension": ".py",
   "mimetype": "text/x-python",
   "name": "python",
   "nbconvert_exporter": "python",
   "pygments_lexer": "ipython2",
   "version": "2.7.6"
  }
 },
 "nbformat": 4,
 "nbformat_minor": 0
}
