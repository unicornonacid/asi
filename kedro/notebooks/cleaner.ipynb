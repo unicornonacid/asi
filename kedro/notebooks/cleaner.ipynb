{
 "cells": [
  {
   "cell_type": "code",
   "execution_count": 1,
   "metadata": {
    "collapsed": true
   },
   "outputs": [],
   "source": [
    "import argparse\n",
    "import polars as pl\n",
    "from os import mkdir\n",
    "from os import path\n",
    "from sys import exit"
   ]
  },
  {
   "cell_type": "code",
   "execution_count": null,
   "outputs": [],
   "source": [
    "parser = argparse.ArgumentParser(description='Czyszczenie pliku')\n",
    "parser.add_argument('FROM', metavar='FROM', type=str, nargs=1,help='ścieżka do pliku do oczyszcenia')\n",
    "parser.add_argument('TO', metavar='TO', type=str, nargs=1,help='ścieżka do pliku wynikowego')\n",
    "\n",
    "args=parser.parse_args()\n",
    "FROM=args.FROM[0]\n",
    "TO=args.TO[0]"
   ],
   "metadata": {
    "collapsed": false
   }
  },
  {
   "cell_type": "code",
   "execution_count": null,
   "outputs": [],
   "source": [
    "#Wczytanie pliku\n",
    "df=pl.read_csv(FROM)"
   ],
   "metadata": {
    "collapsed": false
   }
  },
  {
   "cell_type": "code",
   "execution_count": null,
   "outputs": [],
   "source": [
    "#policzenie rekordów\n",
    "raw_number=df.select(pl.count())[0,0]"
   ],
   "metadata": {
    "collapsed": false
   }
  },
  {
   "cell_type": "code",
   "execution_count": null,
   "outputs": [],
   "source": [
    "#zamiana stringów na int\n",
    "client_converter={\"Y\":1, \"N\":0}\n",
    "sex_converter={\"M\":1, \"F\":0}"
   ],
   "metadata": {
    "collapsed": false
   }
  },
  {
   "cell_type": "code",
   "execution_count": null,
   "outputs": [],
   "source": [
    "df = df.with_columns(pl.col(\"Client\").map_dict(client_converter))\n",
    "df = df.with_columns(pl.col(\"Sex\").map_dict(sex_converter))"
   ],
   "metadata": {
    "collapsed": false
   }
  },
  {
   "cell_type": "code",
   "execution_count": null,
   "outputs": [],
   "source": [
    "#usunięcie rekordów z null/none\n",
    "df = df.drop_nulls()"
   ],
   "metadata": {
    "collapsed": false
   }
  },
  {
   "cell_type": "code",
   "execution_count": null,
   "outputs": [],
   "source": [
    "#tylko osoby w wieku poniżej 100 lat i powyżej 17 mogą kupować\n",
    "df = df.filter(pl.col(\"Age\")>17)\n",
    "df = df.filter(pl.col(\"Age\")<100)"
   ],
   "metadata": {
    "collapsed": false
   }
  },
  {
   "cell_type": "code",
   "execution_count": null,
   "outputs": [],
   "source": [
    "#policzenie rekordów po przetworzeniu\n",
    "clean_number=df.select(pl.count())[0,0]"
   ],
   "metadata": {
    "collapsed": false
   }
  },
  {
   "cell_type": "code",
   "execution_count": null,
   "outputs": [],
   "source": [
    "#sprawdzenie/utworzenie katalogów/plików\n",
    "if not path.exists(path.dirname(TO)):\n",
    "    mkdir(path.dirname(TO))\n",
    "\n",
    "if path.exists(TO):\n",
    "    print(\"Docelowy plik istnieje. Nie nadpisuję\")\n",
    "    exit(1)\n",
    "\n",
    "#zapis pliku\n",
    "df.write_csv(TO)"
   ],
   "metadata": {
    "collapsed": false
   }
  },
  {
   "cell_type": "code",
   "execution_count": null,
   "outputs": [],
   "source": [
    "#raport końcowy\n",
    "print(f\"\"\"Przetworzono {raw_number} rekordów.\n",
    "Usunięto {raw_number-clean_number}.\n",
    "Docelowy plik ma {clean_number} rekordów\"\"\")"
   ],
   "metadata": {
    "collapsed": false
   }
  }
 ],
 "metadata": {
  "kernelspec": {
   "display_name": "Python 3",
   "language": "python",
   "name": "python3"
  },
  "language_info": {
   "codemirror_mode": {
    "name": "ipython",
    "version": 2
   },
   "file_extension": ".py",
   "mimetype": "text/x-python",
   "name": "python",
   "nbconvert_exporter": "python",
   "pygments_lexer": "ipython2",
   "version": "2.7.6"
  }
 },
 "nbformat": 4,
 "nbformat_minor": 0
}
