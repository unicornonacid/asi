{
 "cells": [
  {
   "cell_type": "code",
   "execution_count": null,
   "metadata": {
    "collapsed": true
   },
   "outputs": [],
   "source": [
    "import argparse\n",
    "from mimesis import Generic\n",
    "from mimesis.locales import Locale\n",
    "from random import choices,sample,randrange"
   ]
  },
  {
   "cell_type": "code",
   "execution_count": null,
   "outputs": [],
   "source": [
    "parser = argparse.ArgumentParser(description='Generowanie danych')\n",
    "parser.add_argument('integers', metavar='X', type=int, nargs=1,help='liczba przypadków do wygenerowania')\n",
    "args=parser.parse_args()\n",
    "X=args.integers[0]"
   ],
   "metadata": {
    "collapsed": false
   }
  },
  {
   "cell_type": "code",
   "execution_count": null,
   "outputs": [],
   "source": [
    "g = Generic(locale=Locale.EN)\n",
    "\n",
    "fruits=\"\"\"Apple\n",
    "Aronia\n",
    "Banana\n",
    "Bearberry\n",
    "Blackberry\n",
    "Blackcurrant\n",
    "Blueberry\n",
    "Cantaloupe\n",
    "Citron\n",
    "Clementine\n",
    "Coconut\n",
    "Guava\n",
    "Lime\n",
    "Lychee\n",
    "Mango\n",
    "Orange\n",
    "Peach\n",
    "Plum\n",
    "Quince\n",
    "Raspberry\n",
    "Redcurrant\n",
    "Sambucus\n",
    "Strawberries\n",
    "\"\"\".splitlines()"
   ],
   "metadata": {
    "collapsed": false
   }
  },
  {
   "cell_type": "code",
   "execution_count": null,
   "outputs": [],
   "source": [
    "header=[]\n",
    "\n",
    "header.append(\"Sex\")\n",
    "header.append(\"Age\")\n",
    "header.append(\",\".join(fruits))\n",
    "header.append(\"Client\")\n",
    "print(\",\".join(header))"
   ],
   "metadata": {
    "collapsed": false
   }
  },
  {
   "cell_type": "code",
   "execution_count": null,
   "outputs": [],
   "source": [
    "for z in range(X):\n",
    "\n",
    "    output=[]\n",
    "\n",
    "    # losowanie płci\n",
    "    output.append(choices([\"F\",\"M\"], weights=[0.4,0.6],k=1)[0])\n",
    "\n",
    "    # wiek > 18 roku życia\n",
    "    output.append(g.person.age(18))\n",
    "\n",
    "\n",
    "    #czas reklam dla każdego owoca jest ustawiamy na 0\n",
    "    fruits_dict={}\n",
    "    for x in fruits:\n",
    "        fruits_dict[x]=0;\n",
    "\n",
    "    # losujemy listę owoców (od 1 do 7)\n",
    "    for x in sample(fruits,k=randrange(8)):\n",
    "        #dla każdego owocu losujemy czas reklam od 0 do 300\n",
    "        fruits_dict[x]=randrange(300)\n",
    "\n",
    "    # ustawiamy zmienne pomocnicze czy kupiła/kupił na 1\n",
    "    Y=1\n",
    "    N=1\n",
    "\n",
    "    # Dla każdego owocu:\n",
    "    for n,x in enumerate(fruits_dict):\n",
    "\n",
    "        #Jeżeli nie oglądała to N wzrasta o 10\n",
    "        if fruits_dict[x]==0:\n",
    "            N=N+10\n",
    "            #Jeżeli nie oglądała a indeks owocu jest parzysty, to N wzrasta o 5\n",
    "            #dla nieparzystych obniża się o 5\n",
    "            if n % 2 == 0:\n",
    "                N=N+5\n",
    "            else:\n",
    "                N=N+20\n",
    "        else:\n",
    "            #jeżeli oglądała reklamę owoców, to zmienna Y wzrasta o 10 + ile sekund oglądała reklamy podzielona przez 10\n",
    "            Y=Y+fruits_dict[x]/9+10\n",
    "\n",
    "    # wartość Y wzrasta również o wiek klienta\n",
    "    Y=Y+output[1]\n",
    "\n",
    "    #Dla klientek wartoś Y obniża się o 15\n",
    "    if output[0]=='F':\n",
    "        Y=Y-15\n",
    "\n",
    "    # do zmiennej output dodawane są wartosci wygenerowanych reklam\n",
    "    for x in sorted(fruits_dict.keys()):\n",
    "        output.append(fruits_dict[x])\n",
    "\n",
    "    # Najważniejsze: losowane jest czy klientka kupiła jakikolwiek sok. Losowanie jest proporcjonalne do wcześniej zdefiniowanych zmiennych Y i N\n",
    "    output.append(choices([\"Y\",\"N\"], weights=[Y,N],k=1)[0])\n",
    "\n",
    "    # drukowane jest wynik, czy lista wszystkich zmiennych. Nie ma nagłówków.\n",
    "    output=map(lambda x: str(x),output)\n",
    "    print(\",\".join(output))"
   ],
   "metadata": {
    "collapsed": false
   }
  }
 ],
 "metadata": {
  "kernelspec": {
   "display_name": "Python 3",
   "language": "python",
   "name": "python3"
  },
  "language_info": {
   "codemirror_mode": {
    "name": "ipython",
    "version": 2
   },
   "file_extension": ".py",
   "mimetype": "text/x-python",
   "name": "python",
   "nbconvert_exporter": "python",
   "pygments_lexer": "ipython2",
   "version": "2.7.6"
  }
 },
 "nbformat": 4,
 "nbformat_minor": 0
}
